{
 "cells": [
  {
   "cell_type": "markdown",
   "metadata": {
    "pycharm": {
     "name": "#%% md\n"
    }
   },
   "source": [
    "# Simulating Planetary Orbits\n",
    "\n",
    "This notebook contains animations of planets orbiting the sun. By calculating their velocities and position using numerical methods, their trajectory can be mapped.\n",
    "\n",
    "Where the current position is **r**(t), the position at the next step would therefore be **r**(t + $\\delta$t), with $\\delta$t being the time step. \n",
    "\n",
    "**r**(t + $\\delta$t) = **r**(t) + $\\delta$**r** = **r**(t) + **v**$\\delta$t\n",
    "                     \n",
    "The velocity at the next step, **v**(t + $\\delta$t), uses a form of Newtons equation of gravitation to calculate the velocity of the planet at the next time step.\n",
    "                     \n",
    "**v** (t +$\\delta$t) = **v**(t) + $\\delta$**v** = **v**(t) - $\\frac{GMr}{|r|^{3}}\\delta$t\n",
    "                  \n",
    "This program is designed to investigate the behaviour of planets orbiting a star, and how varying parameters such as initial position, velocity, mass of the planets and mass of the star can effect the orbital path. "
   ]
  },
  {
   "cell_type": "code",
   "execution_count": 1,
   "metadata": {
    "ExecuteTime": {
     "end_time": "2023-12-08T16:29:26.655008600Z",
     "start_time": "2023-12-08T16:29:26.522732700Z"
    },
    "pycharm": {
     "name": "#%%\n"
    }
   },
   "outputs": [
    {
     "data": {
      "text/html": [
       "<div id=\"glowscript\" class=\"glowscript\"></div>"
      ],
      "text/plain": [
       "<IPython.core.display.HTML object>"
      ]
     },
     "metadata": {},
     "output_type": "display_data"
    },
    {
     "data": {
      "application/javascript": [
       "if (typeof Jupyter !== \"undefined\") { window.__context = { glowscript_container: $(\"#glowscript\").removeAttr(\"id\")};}else{ element.textContent = ' ';}"
      ],
      "text/plain": [
       "<IPython.core.display.Javascript object>"
      ]
     },
     "metadata": {},
     "output_type": "display_data"
    }
   ],
   "source": [
    "from vpython import vector, mag, sphere, rate, color, canvas\n",
    "G = 1.      # gravitational constant [using units where gravitational constant is 1.0]"
   ]
  },
  {
   "cell_type": "markdown",
   "metadata": {
    "pycharm": {
     "name": "#%% md\n"
    }
   },
   "source": [
    "## Part A"
   ]
  },
  {
   "cell_type": "markdown",
   "metadata": {
    "pycharm": {
     "name": "#%% md\n"
    }
   },
   "source": [
    "### 1. Calculating the gravitational force between two objects\n",
    "\n",
    "You should complete the following function, without changing its name, arguments or docstring, to calculate the force on one object due to the gravitational field of another. Note that we are using units where the gravitational constant G has the value 1, so masses and times are also given in non-standard units."
   ]
  },
  {
   "cell_type": "code",
   "execution_count": 2,
   "metadata": {
    "ExecuteTime": {
     "end_time": "2023-12-08T16:29:26.784085600Z",
     "start_time": "2023-12-08T16:29:26.538359100Z"
    },
    "pycharm": {
     "name": "#%%\n"
    }
   },
   "outputs": [],
   "source": [
    "def force(pos1, pos2, m1, m2):\n",
    "    \"\"\"\n",
    "    Returns the gravitational force exerted by object 2 on object 1.\n",
    "    Input:\n",
    "      - pos1 = position vector of first object\n",
    "      - pos2 = position vector of second object\n",
    "      - m1   = mass of first object\n",
    "      - m2   = mass of second object\n",
    "    Depends on:\n",
    "      - G    = gravitational constant (global variable)\n",
    "    \"\"\"\n",
    "    ##################\n",
    "    # YOUR CODE HERE #\n",
    "    ##################\n",
    "    \n",
    "    # Calculates and returns value of the force\n",
    "    return -G * m1 * m2 * (pos1 - pos2) / ((mag(pos1 - pos2)) ** 3)"
   ]
  },
  {
   "cell_type": "markdown",
   "metadata": {
    "pycharm": {
     "name": "#%% md\n"
    }
   },
   "source": [
    "#### Testing your function\n",
    "\n",
    "The following cell applies some tests to help you make sure your `force` function works correctly before you use it in the rest of the task. You do not need to understand the details of how it works, but it may help you narrow down any bugs in your code. If each line of output starts with `OK` then it is likely (but not guaranteed) that you have implemented the function correctly.\n",
    "\n",
    "Please leave the code in this cell unchanged: you may add your own tests if you wish, but these should be in a separate cell."
   ]
  },
  {
   "cell_type": "code",
   "execution_count": 3,
   "metadata": {
    "ExecuteTime": {
     "end_time": "2023-12-08T16:29:26.800202Z",
     "start_time": "2023-12-08T16:29:26.545626Z"
    },
    "pycharm": {
     "name": "#%%\n"
    }
   },
   "outputs": [
    {
     "name": "stdout",
     "output_type": "stream",
     "text": [
      "OK: correct results for input (<0, 0, 0>, <1, 0, 0>, 1, 1)\n",
      "OK: correct results for input (<1, 0, 0>, <0, 0, 0>, 1, 1)\n",
      "OK: correct results for input (<0, 0, 0>, <2, 0, 0>, 1, 1)\n",
      "OK: correct results for input (<0, 0, 0>, <0, 1, 0>, 1, 1)\n",
      "OK: correct results for input (<10, 0, 0>, <10, 1, 0>, 1, 1)\n",
      "OK: correct results for input (<0, 0, 0>, <1, 0, 0>, 2, 1)\n",
      "OK: correct results for input (<0, 0, 0>, <1, 0, 0>, 1, 2)\n"
     ]
    }
   ],
   "source": [
    "################################################\n",
    "#                                              #\n",
    "# Test force is correct in a few simple cases. #\n",
    "#                                              #\n",
    "#   DO NOT CHANGE THE CODE IN THIS CELL.       #\n",
    "#                                              #\n",
    "################################################\n",
    "\n",
    "def test_force(pos1, pos2, m1, m2, expected_force):\n",
    "    epsilon = 1e-10\n",
    "    f = force(pos1, pos2, m1, m2)\n",
    "    if not isinstance(f,vector):\n",
    "        print(f\"ERROR: function should return a vector but returns {f}.\")\n",
    "        return\n",
    "    args_as_string = f\"({pos1}, {pos2}, {m1}, {m2})\"\n",
    "    error = mag(f-expected_force)\n",
    "    if error<epsilon:\n",
    "        print(f\"OK: correct results for input {args_as_string}\")\n",
    "    else:\n",
    "        print(f\"ERROR: wrong results for input {args_as_string}\")\n",
    "        print(f\"  expected: {expected_force}\")\n",
    "        print(f\"  got:      {f}\")\n",
    "\n",
    "test_force(vector(0,0,0),vector(1,0,0),1,1,vector(1,0,0))    # distance = 1 in x direction\n",
    "test_force(vector(1,0,0),vector(0,0,0),1,1,vector(-1,0,0))   # swap objects\n",
    "test_force(vector(0,0,0),vector(2,0,0),1,1,vector(0.25,0,0)) # distance = 2\n",
    "test_force(vector(0,0,0),vector(0,1,0),1,1,vector(0,1,0))    # distance = 1 in y direction\n",
    "test_force(vector(10,0,0),vector(10,1,0),1,1,vector(0,1,0))  # displaced from origin\n",
    "test_force(vector(0,0,0),vector(1,0,0),2,1,vector(2,0,0))    # non-unit mass 1\n",
    "test_force(vector(0,0,0),vector(1,0,0),1,2,vector(2,0,0))    # non-unit mass 2"
   ]
  },
  {
   "cell_type": "markdown",
   "metadata": {
    "pycharm": {
     "name": "#%% md\n"
    }
   },
   "source": [
    "### 2. Calculating the motion of a planet in the gravitational field of a star\n",
    "\n",
    "You should complete the following function, without changing its name, arguments or docstring, to calculate the new position and velocity of a planet after a time step `dt`, in the gravitational field of a star of a given mass situated at the origin. This function will need to call `force` to calculate the acceleration vector of the planet."
   ]
  },
  {
   "cell_type": "code",
   "execution_count": 4,
   "metadata": {
    "ExecuteTime": {
     "end_time": "2023-12-08T16:29:26.800202Z",
     "start_time": "2023-12-08T16:29:26.561252600Z"
    },
    "pycharm": {
     "name": "#%%\n"
    }
   },
   "outputs": [],
   "source": [
    "def move_planet(position, velocity, m_star, dt):\n",
    "    \"\"\"\n",
    "    Calculate motion of planet in the gravitational field of a star with given mass\n",
    "    at the origin, using Euler's method.\n",
    "    \n",
    "    Input:\n",
    "      - position: position vector of planet at start of time step\n",
    "      - velocity: velocity vector of planet at start of time step\n",
    "      - m_star:   mass of star\n",
    "      - dt:       time step\n",
    "      \n",
    "    Output: (position_new, velocity_new)\n",
    "      - position_new: position vector of planet at end of time step\n",
    "      - velocity_new: velocity vector of planet at end of time step\n",
    "      \n",
    "    Depends on:\n",
    "      - force = function to calculate the gravitational force between two objects\n",
    "    \"\"\"\n",
    "    ##################\n",
    "    # YOUR CODE HERE #\n",
    "    ##################\n",
    "    \n",
    "    # Calculates new position using revious position and velocity multiplied with the time step\n",
    "    position_new = position + velocity * dt\n",
    "    \n",
    "    #First calculates the change in velocity, which can then be used with the time step and previous velocity\n",
    "    # To find the value of the new velocity\n",
    "    delta_v = -G * m_star * position * dt / ((mag(position)) ** 3)\n",
    "    velocity_new = velocity + delta_v\n",
    "    \n",
    "    return position_new, velocity_new"
   ]
  },
  {
   "cell_type": "markdown",
   "metadata": {
    "pycharm": {
     "name": "#%% md\n"
    }
   },
   "source": [
    "#### Testing your function\n",
    "\n",
    "The following cell applies some tests to help you make sure your `move_planet` function works correctly before you use it in the rest of the task. You do not need to understand the details of how it works, but it may help you narrow down any bugs in your code. If each line of output starts with `OK` then it is likely (but not guaranteed) that you have implemented the function correctly.\n",
    "\n",
    "Please leave the code in this cell unchanged: you may add your own tests if you wish, but these should be in a separate cell. "
   ]
  },
  {
   "cell_type": "code",
   "execution_count": 5,
   "metadata": {
    "ExecuteTime": {
     "end_time": "2023-12-08T16:29:26.800202Z",
     "start_time": "2023-12-08T16:29:26.576878700Z"
    },
    "pycharm": {
     "name": "#%%\n"
    }
   },
   "outputs": [
    {
     "name": "stdout",
     "output_type": "stream",
     "text": [
      "OK: correct results for input <1, 0, 0>, <1, 0, 0>, 1, 0\n",
      "OK: correct results for input <1, 0, 0>, <1, 0, 0>, 1, 1\n",
      "OK: correct results for input <0, 1, 0>, <0, -1, 0>, 1, 1\n",
      "OK: correct results for input <1, 0, 0>, <0, 1, 0>, 1, 1\n",
      "OK: correct results for input <1, 0, 0>, <0, 1, 0>, 1, 0.1\n",
      "OK: correct results for input <1, 0, 0>, <0, 1, 0>, 2, 0.1\n",
      "OK: correct results for input <2, 0, 0>, <1, 0, 0>, 1, 1\n"
     ]
    }
   ],
   "source": [
    "######################################################\n",
    "#                                                    #\n",
    "# Test move_planet is correct in a few simple cases. #\n",
    "#                                                    #\n",
    "#   DO NOT CHANGE THE CODE IN THIS CELL.             #\n",
    "#                                                    #\n",
    "######################################################\n",
    "\n",
    "def test_move_planet(position, velocity, m_star, dt, expected_pos, expected_vel):\n",
    "    epsilon = 1e-10\n",
    "    results = move_planet(position, velocity, m_star, dt)\n",
    "    if not isinstance(results, tuple):\n",
    "        print(f\"ERROR: function should return two vectors but returns {results}.\")\n",
    "        return\n",
    "    if not len(results)==2:\n",
    "        print(f\"ERROR: function should return two vectors but returns {results}.\")\n",
    "        return\n",
    "    pos, vel = results\n",
    "    if not (isinstance(pos,vector) and isinstance(vel,vector)):\n",
    "        print(f\"ERROR: function should return two vectors but returns {results}.\")\n",
    "        return\n",
    "    args_as_string = f\"{position}, {velocity}, {m_star}, {dt}\"\n",
    "    err_pos, err_vel = mag(pos - expected_pos), mag(vel - expected_vel)\n",
    "    if err_pos < epsilon and err_vel < epsilon:\n",
    "        print(f\"OK: correct results for input {args_as_string}\")\n",
    "    else:\n",
    "        print(f\"ERROR: wrong results for input {args_as_string}\")\n",
    "        print(f\"  expected: {expected_pos, expected_vel}\")\n",
    "        print(f\"  got:      {results}\")\n",
    "\n",
    "\n",
    "test_move_planet(vector(1,0,0), vector(1,0,0), 1, 0, vector(1,0,0), vector(1,0,0))    # dt = 0: output = input\n",
    "test_move_planet(vector(1,0,0), vector(1,0,0), 1, 1, vector(2,0,0), vector(0,0,0))    # moving away from star\n",
    "test_move_planet(vector(0,1,0), vector(0,-1,0), 1, 1, vector(0,0,0), vector(0,-2,0))  # moving towards star\n",
    "test_move_planet(vector(1,0,0), vector(0,1,0), 1, 1, vector(1,1,0), vector(-1,1,0))   # moving past star\n",
    "test_move_planet(vector(1,0,0), vector(0,1,0), 1, 0.1, vector(1,0.1,0), vector(-0.1,1,0))  # smaller dt\n",
    "test_move_planet(vector(1,0,0), vector(0,1,0), 2, 0.1, vector(1,0.1,0), vector(-0.2,1,0))  # larger star mass\n",
    "test_move_planet(vector(2,0,0), vector(1,0,0), 1, 1, vector(3,0,0), vector(0.75,0,0)) # non-unit distance"
   ]
  },
  {
   "cell_type": "markdown",
   "metadata": {
    "pycharm": {
     "name": "#%% md\n"
    }
   },
   "source": [
    "### 3. Animating the orbit of a planet\n",
    "\n",
    "You should complete the following function, without changing its name, arguments or docstring, to display an animation of the orbit of the planet with the given intial position and velocity, and the given time step. Your planet should leave a visible trail so that we can see the shape of path.\n",
    "\n",
    "Your animation should run for a suitable amount of time: we suggest around 10 seconds in real time."
   ]
  },
  {
   "cell_type": "code",
   "execution_count": 6,
   "metadata": {
    "ExecuteTime": {
     "end_time": "2023-12-08T16:29:26.815826400Z",
     "start_time": "2023-12-08T16:29:26.592505200Z"
    },
    "pycharm": {
     "name": "#%%\n"
    }
   },
   "outputs": [],
   "source": [
    "def animate_planet(position, velocity, m_star, dt):\n",
    "    \"\"\"\n",
    "    Animate planetary orbit from given starting position, with given time step.\n",
    "    \n",
    "    Input:\n",
    "      - position: position vector of planet at start of simulation\n",
    "      - velocity: velocity vector of planet at start of simulation\n",
    "      - m_star:   mass of star\n",
    "      - dt:       time step\n",
    "    \"\"\"\n",
    "    ##################\n",
    "    # YOUR CODE HERE #\n",
    "    ##################\n",
    "    \n",
    "    fps = 2000\n",
    "    time = 0\n",
    "    max_time = 5 # The amount of time for which the animation runs\n",
    "    \n",
    "    # Defines planet\n",
    "    planet = sphere(pos=position, color=color.green, radius=0.1, make_trail=True)\n",
    "    \n",
    "    # Loops through every frame of animation, till time has exceeded animations run time\n",
    "    while time < max_time:\n",
    "        rate(fps)                   # sets the framerate of the animation\n",
    "                                    # Calculates new position and velocity\n",
    "        new_position, new_velocity = move_planet(planet.pos, velocity, m_star, dt) \n",
    "        velocity = new_velocity     # Sets planets' new velocity\n",
    "        planet.pos = new_position   # Sets planets' new position\n",
    "        time += dt                  # Increments time\n",
    "    "
   ]
  },
  {
   "cell_type": "markdown",
   "metadata": {
    "pycharm": {
     "name": "#%% md\n"
    }
   },
   "source": [
    "#### Testing your function\n",
    "\n",
    "If you have implemented all three functions correctly, the following cell should show an almost circular orbit. You may need to adjust the animation rate in the function `animate_planet` to get a smooth path but you should not change the given time step."
   ]
  },
  {
   "cell_type": "code",
   "execution_count": 17,
   "metadata": {
    "ExecuteTime": {
     "end_time": "2023-12-08T16:30:07.839276100Z",
     "start_time": "2023-12-08T16:30:07.729902300Z"
    },
    "pycharm": {
     "name": "#%%\n"
    }
   },
   "outputs": [
    {
     "data": {
      "text/html": [
       "<div id=\"glowscript\" class=\"glowscript\"></div>"
      ],
      "text/plain": [
       "<IPython.core.display.HTML object>"
      ]
     },
     "metadata": {},
     "output_type": "display_data"
    },
    {
     "data": {
      "application/javascript": [
       "if (typeof Jupyter !== \"undefined\") { window.__context = { glowscript_container: $(\"#glowscript\").removeAttr(\"id\")};}else{ element.textContent = ' ';}"
      ],
      "text/plain": [
       "<IPython.core.display.Javascript object>"
      ]
     },
     "metadata": {},
     "output_type": "display_data"
    },
    {
     "ename": "AttributeError",
     "evalue": "module 'notebook' has no attribute 'nbextensions'",
     "output_type": "error",
     "traceback": [
      "\u001b[1;31m---------------------------------------------------------------------------\u001b[0m",
      "\u001b[1;31mAttributeError\u001b[0m                            Traceback (most recent call last)",
      "Cell \u001b[1;32mIn[17], line 6\u001b[0m\n\u001b[0;32m      4\u001b[0m v_planet   \u001b[38;5;241m=\u001b[39m vector(\u001b[38;5;241m-\u001b[39m\u001b[38;5;241m22\u001b[39m,\u001b[38;5;241m0\u001b[39m,\u001b[38;5;241m0\u001b[39m) \u001b[38;5;66;03m# initial velocity of planet\u001b[39;00m\n\u001b[0;32m      5\u001b[0m m_star     \u001b[38;5;241m=\u001b[39m \u001b[38;5;241m900.\u001b[39m           \u001b[38;5;66;03m# mass of star (units where G=1)\u001b[39;00m\n\u001b[1;32m----> 6\u001b[0m \u001b[43msphere\u001b[49m\u001b[43m(\u001b[49m\u001b[43mpos\u001b[49m\u001b[38;5;241;43m=\u001b[39;49m\u001b[43mvector\u001b[49m\u001b[43m(\u001b[49m\u001b[38;5;241;43m0\u001b[39;49m\u001b[43m,\u001b[49m\u001b[38;5;241;43m0\u001b[39;49m\u001b[43m,\u001b[49m\u001b[38;5;241;43m0\u001b[39;49m\u001b[43m)\u001b[49m\u001b[43m,\u001b[49m\u001b[43m \u001b[49m\u001b[43mcolor\u001b[49m\u001b[38;5;241;43m=\u001b[39;49m\u001b[43mcolor\u001b[49m\u001b[38;5;241;43m.\u001b[39;49m\u001b[43myellow\u001b[49m\u001b[43m,\u001b[49m\u001b[43m \u001b[49m\u001b[43mradius\u001b[49m\u001b[38;5;241;43m=\u001b[39;49m\u001b[38;5;241;43m0.1\u001b[39;49m\u001b[43m)\u001b[49m \u001b[38;5;66;03m# draw star\u001b[39;00m\n\u001b[0;32m      8\u001b[0m \u001b[38;5;66;03m# Animate orbit of planet\u001b[39;00m\n\u001b[0;32m      9\u001b[0m animate_planet(pos_planet, v_planet, m_star, \u001b[38;5;241m1e-4\u001b[39m)\n",
      "File \u001b[1;32m~\\Desktop\\Physics\\venv\\lib\\site-packages\\vpython\\vpython.py:1172\u001b[0m, in \u001b[0;36msphere.__init__\u001b[1;34m(self, **args)\u001b[0m\n\u001b[0;32m   1170\u001b[0m args[\u001b[38;5;124m'\u001b[39m\u001b[38;5;124m_default_size\u001b[39m\u001b[38;5;124m'\u001b[39m] \u001b[38;5;241m=\u001b[39m vector(\u001b[38;5;241m2\u001b[39m,\u001b[38;5;241m2\u001b[39m,\u001b[38;5;241m2\u001b[39m)\n\u001b[0;32m   1171\u001b[0m args[\u001b[38;5;124m'\u001b[39m\u001b[38;5;124m_objName\u001b[39m\u001b[38;5;124m'\u001b[39m] \u001b[38;5;241m=\u001b[39m \u001b[38;5;124m\"\u001b[39m\u001b[38;5;124msphere\u001b[39m\u001b[38;5;124m\"\u001b[39m\n\u001b[1;32m-> 1172\u001b[0m \u001b[38;5;28;43msuper\u001b[39;49m\u001b[43m(\u001b[49m\u001b[43msphere\u001b[49m\u001b[43m,\u001b[49m\u001b[43m \u001b[49m\u001b[38;5;28;43mself\u001b[39;49m\u001b[43m)\u001b[49m\u001b[38;5;241;43m.\u001b[39;49m\u001b[43msetup\u001b[49m\u001b[43m(\u001b[49m\u001b[43margs\u001b[49m\u001b[43m)\u001b[49m\n\u001b[0;32m   1173\u001b[0m \u001b[38;5;28mself\u001b[39m\u001b[38;5;241m.\u001b[39m_sizing \u001b[38;5;241m=\u001b[39m \u001b[38;5;28;01mFalse\u001b[39;00m\n",
      "File \u001b[1;32m~\\Desktop\\Physics\\venv\\lib\\site-packages\\vpython\\vpython.py:599\u001b[0m, in \u001b[0;36mstandardAttributes.setup\u001b[1;34m(self, args)\u001b[0m\n\u001b[0;32m    598\u001b[0m \u001b[38;5;28;01mdef\u001b[39;00m \u001b[38;5;21msetup\u001b[39m(\u001b[38;5;28mself\u001b[39m, args):\n\u001b[1;32m--> 599\u001b[0m     \u001b[38;5;28;43msuper\u001b[39;49m\u001b[43m(\u001b[49m\u001b[43mstandardAttributes\u001b[49m\u001b[43m,\u001b[49m\u001b[43m \u001b[49m\u001b[38;5;28;43mself\u001b[39;49m\u001b[43m)\u001b[49m\u001b[38;5;241;43m.\u001b[39;49m\u001b[38;5;21;43m__init__\u001b[39;49m\u001b[43m(\u001b[49m\u001b[43m)\u001b[49m\n\u001b[0;32m    600\u001b[0m     \u001b[38;5;28mself\u001b[39m\u001b[38;5;241m.\u001b[39m_constructing \u001b[38;5;241m=\u001b[39m \u001b[38;5;28;01mTrue\u001b[39;00m  \u001b[38;5;66;03m## calls to setters are from constructor\u001b[39;00m\n\u001b[0;32m    602\u001b[0m     objName \u001b[38;5;241m=\u001b[39m \u001b[38;5;28mself\u001b[39m\u001b[38;5;241m.\u001b[39m_objName \u001b[38;5;241m=\u001b[39m args[\u001b[38;5;124m'\u001b[39m\u001b[38;5;124m_objName\u001b[39m\u001b[38;5;124m'\u001b[39m]  \u001b[38;5;66;03m## identifies object type\u001b[39;00m\n",
      "File \u001b[1;32m~\\Desktop\\Physics\\venv\\lib\\site-packages\\vpython\\vpython.py:257\u001b[0m, in \u001b[0;36mbaseObj.__init__\u001b[1;34m(self, **kwargs)\u001b[0m\n\u001b[0;32m    254\u001b[0m \u001b[38;5;28;01mif\u001b[39;00m \u001b[38;5;129;01mnot\u001b[39;00m (baseObj\u001b[38;5;241m.\u001b[39m_view_constructed \u001b[38;5;129;01mor\u001b[39;00m\n\u001b[0;32m    255\u001b[0m         baseObj\u001b[38;5;241m.\u001b[39m_canvas_constructing):\n\u001b[0;32m    256\u001b[0m     \u001b[38;5;28;01mif\u001b[39;00m _isnotebook:\n\u001b[1;32m--> 257\u001b[0m         \u001b[38;5;28;01mfrom\u001b[39;00m \u001b[38;5;21;01m.\u001b[39;00m\u001b[38;5;21;01mwith_notebook\u001b[39;00m \u001b[38;5;28;01mimport\u001b[39;00m _\n\u001b[0;32m    258\u001b[0m     \u001b[38;5;28;01melse\u001b[39;00m:\n\u001b[0;32m    259\u001b[0m         \u001b[38;5;28;01mfrom\u001b[39;00m \u001b[38;5;21;01m.\u001b[39;00m\u001b[38;5;21;01mno_notebook\u001b[39;00m \u001b[38;5;28;01mimport\u001b[39;00m _\n",
      "File \u001b[1;32m~\\Desktop\\Physics\\venv\\lib\\site-packages\\vpython\\with_notebook.py:80\u001b[0m\n\u001b[0;32m     77\u001b[0m         transfer \u001b[38;5;241m=\u001b[39m (v \u001b[38;5;241m!=\u001b[39m __version__) \u001b[38;5;66;03m# need not transfer files to nbextensions if correct version's files already there\u001b[39;00m\n\u001b[0;32m     79\u001b[0m \u001b[38;5;28;01mif\u001b[39;00m transfer:\n\u001b[1;32m---> 80\u001b[0m     \u001b[43mnotebook\u001b[49m\u001b[38;5;241;43m.\u001b[39;49m\u001b[43mnbextensions\u001b[49m\u001b[38;5;241m.\u001b[39minstall_nbextension(path \u001b[38;5;241m=\u001b[39m package_dir\u001b[38;5;241m+\u001b[39m\u001b[38;5;124m\"\u001b[39m\u001b[38;5;124m/vpython_data\u001b[39m\u001b[38;5;124m\"\u001b[39m,overwrite \u001b[38;5;241m=\u001b[39m \u001b[38;5;28;01mTrue\u001b[39;00m,user \u001b[38;5;241m=\u001b[39m \u001b[38;5;28;01mTrue\u001b[39;00m,verbose \u001b[38;5;241m=\u001b[39m \u001b[38;5;241m0\u001b[39m)\n\u001b[0;32m     81\u001b[0m     notebook\u001b[38;5;241m.\u001b[39mnbextensions\u001b[38;5;241m.\u001b[39minstall_nbextension(path \u001b[38;5;241m=\u001b[39m package_dir\u001b[38;5;241m+\u001b[39m\u001b[38;5;124m\"\u001b[39m\u001b[38;5;124m/vpython_libraries\u001b[39m\u001b[38;5;124m\"\u001b[39m,overwrite \u001b[38;5;241m=\u001b[39m \u001b[38;5;28;01mTrue\u001b[39;00m,user \u001b[38;5;241m=\u001b[39m \u001b[38;5;28;01mTrue\u001b[39;00m,verbose \u001b[38;5;241m=\u001b[39m \u001b[38;5;241m0\u001b[39m)\n\u001b[0;32m     83\u001b[0m     \u001b[38;5;66;03m# Wait for files to be transferred to nbextensions:\u001b[39;00m\n",
      "\u001b[1;31mAttributeError\u001b[0m: module 'notebook' has no attribute 'nbextensions'"
     ]
    }
   ],
   "source": [
    "# Initialize canvas, and set parameters of star and planet.\n",
    "canvas()\n",
    "pos_planet = vector(0,2,0)   # initial position of planet\n",
    "v_planet   = vector(-22,0,0) # initial velocity of planet\n",
    "m_star     = 900.           # mass of star (units where G=1)\n",
    "sphere(pos=vector(0,0,0), color=color.yellow, radius=0.1) # draw star\n",
    "\n",
    "# Animate orbit of planet\n",
    "animate_planet(pos_planet, v_planet, m_star, 1e-4)"
   ]
  },
  {
   "cell_type": "markdown",
   "metadata": {
    "pycharm": {
     "name": "#%% md\n"
    }
   },
   "source": [
    "### 4. Investigation\n",
    "\n",
    "You should insert code and text cells below as required to investigate and discuss the effect of changing the parameters of the animation: time step, mass of star, initial position and velocity of planet. "
   ]
  },
  {
   "cell_type": "markdown",
   "metadata": {
    "pycharm": {
     "name": "#%% md\n"
    }
   },
   "source": [
    "#### Effects of changing mass of star\n",
    "\n",
    "By changing the mass of star, the magnitude of the force exerted onto the planet becomes greater. So evidently, the greater the mass of the star, the stronger the force and the closer the eccentricity tends to zero (850 < m < 1000). Similarly, when the mass of the star decreases, and the magnitude of the gravitational force decreases, the orbit becomes more eliiptical (550 < m < 850, until it reaches a critical point where the force is too weak, and the planet escapes the stars pull (m < 550)."
   ]
  },
  {
   "cell_type": "code",
   "execution_count": null,
   "metadata": {
    "ExecuteTime": {
     "start_time": "2023-12-08T16:29:28.146662400Z"
    },
    "pycharm": {
     "name": "#%%\n"
    }
   },
   "outputs": [],
   "source": [
    "# Initialize canvas, and set parameters of star and planet.\n",
    "canvas()\n",
    "pos_planet = vector(0,2,0)   # initial position of planet\n",
    "v_planet   = vector(-22,0,0) # initial velocity of planet\n",
    "m_star     = 700          # mass of star (units where G=1)\n",
    "sphere(pos=vector(0,0,0), color=color.yellow, radius=0.1) # draw star\n",
    "\n",
    "# Animate orbit of planet\n",
    "animate_planet(pos_planet, v_planet, m_star, 1e-4)"
   ]
  },
  {
   "cell_type": "markdown",
   "metadata": {
    "pycharm": {
     "name": "#%% md\n"
    }
   },
   "source": [
    "#### Effects of changing time step\n",
    "\n",
    "By changing the time step of the simulation, this effects the number of frames of the animation that the computer processes, theoretically this produces a more accurate model, but does require a lot more processing power. A smaller value time step causes the program to process more frames of the simulation, however this comes at the cost of performance, and the simulation may begin to move slower and even lag. Similarly, a higher time step, causes performance to increase signnificantly, but sacrifices the accuracy of the simulation, causing orbits to becomes jagged and unrealistic.<br>(Time step changed back to original value as it cause program to take a substantial amount of time to run)"
   ]
  },
  {
   "cell_type": "code",
   "execution_count": null,
   "metadata": {
    "ExecuteTime": {
     "start_time": "2023-12-08T16:29:28.146662400Z"
    },
    "pycharm": {
     "name": "#%%\n"
    }
   },
   "outputs": [],
   "source": [
    "# Initialize canvas, and set parameters of star and planet.\n",
    "canvas()\n",
    "pos_planet = vector(0,2,0)   # initial position of planet\n",
    "v_planet   = vector(-22,0,0) # initial velocity of planet\n",
    "m_star     = 900.           # mass of star (units where G=1)\n",
    "sphere(pos=vector(0,0,0), color=color.yellow, radius=0.1) # draw star\n",
    "dt = 1e-4 # Time step of simulation\n",
    "\n",
    "# Animate orbit of planet\n",
    "animate_planet(pos_planet, v_planet, m_star, dt)"
   ]
  },
  {
   "cell_type": "markdown",
   "metadata": {
    "pycharm": {
     "name": "#%% md\n"
    }
   },
   "source": [
    "#### Effects of changing initial position\n",
    "\n",
    "If the initial position is moved further from the star, than the gravitational force on the planet becomes weaker, and similar efects to decreasing the mass of the star happens. Similarly, if the planet is moved closer to the star, this corresponds to a stronger force acting on the planet, and the same effects from increasing the mass of the star begin to happen."
   ]
  },
  {
   "cell_type": "code",
   "execution_count": null,
   "metadata": {
    "ExecuteTime": {
     "start_time": "2023-12-08T16:29:28.146662400Z"
    },
    "pycharm": {
     "name": "#%%\n"
    }
   },
   "outputs": [],
   "source": [
    "# Initialize canvas, and set parameters of star and planet.\n",
    "canvas()\n",
    "pos_planet = vector(0,4,0)   # initial position of planet\n",
    "v_planet   = vector(-15,0,0) # initial velocity of planet\n",
    "m_star     = 900.           # mass of star (units where G=1)\n",
    "sphere(pos=vector(0,0,0), color=color.yellow, radius=0.1) # draw star\n",
    "\n",
    "# Animate orbit of planet\n",
    "animate_planet(pos_planet, v_planet, m_star, 1e-4)"
   ]
  },
  {
   "cell_type": "markdown",
   "metadata": {
    "pycharm": {
     "name": "#%% md\n"
    }
   },
   "source": [
    "#### Effects of changing initial velocity\n",
    "\n",
    "Changing the magnitude and direction of the initial velocity of the planet can have a signnificant effect on the shape fo the planets' orbital path. The velocity of the planet is also dependent on it's distance from the star, as the planet needs to have a velocity less than the escape velocity (to prevent the planet from escaping the gravitational pull of the star), and a velocity great enough to prevent it being pulled directly towards the star. Any velocity within this range will result in the planet following an elliptical path around the star."
   ]
  },
  {
   "cell_type": "code",
   "execution_count": null,
   "metadata": {
    "ExecuteTime": {
     "start_time": "2023-12-08T16:29:28.146662400Z"
    },
    "pycharm": {
     "name": "#%%\n"
    }
   },
   "outputs": [],
   "source": [
    "# Initialize canvas, and set parameters of star and planet.\n",
    "canvas()\n",
    "pos_planet = vector(0,2,0)   # initial position of planet\n",
    "v_planet   = vector(-18,-3,0) # initial velocity of planet\n",
    "m_star     = 900.           # mass of star (units where G=1)\n",
    "sphere(pos=vector(0,0,0), color=color.yellow, radius=0.1) # draw star\n",
    "\n",
    "# Animate orbit of planet\n",
    "animate_planet(pos_planet, v_planet, m_star, 1e-4)"
   ]
  },
  {
   "cell_type": "markdown",
   "metadata": {
    "pycharm": {
     "name": "#%% md\n"
    }
   },
   "source": [
    "## Part B\n",
    "\n",
    "It is up to you to structure the rest of the notebook as you see fit, as you complete the tasks set in part B of the assignment.\n",
    "\n",
    "You can call the functions you have defined in part A, or copy and adapt them in part B, but **DO NOT CHANGE THE CODE IN PART A SUCH THAT THE CELLS IN PART A NO LONGER WORK CORRECTLY.** You do not want to lose marks in section A in completing section B."
   ]
  },
  {
   "cell_type": "markdown",
   "metadata": {
    "pycharm": {
     "name": "#%% md\n"
    }
   },
   "source": [
    "### 1 A - Two Planets\n",
    "\n",
    "In this section, we calculate the position and velocity, at every time step, of two planets orbiting a star by using the \"move_planet\" function, while ignoring the gravitational effects the planets have on eachother."
   ]
  },
  {
   "cell_type": "code",
   "execution_count": null,
   "metadata": {
    "ExecuteTime": {
     "start_time": "2023-12-08T16:29:28.146662400Z"
    },
    "pycharm": {
     "name": "#%%\n"
    }
   },
   "outputs": [],
   "source": [
    "def animate_planets(pos1, pos2, vel1, vel2, m_star, dt):\n",
    "    \"\"\"\n",
    "    Animate planetary orbits from the given starting position of two planets, with given time step.\n",
    "    \n",
    "    Input:\n",
    "      - pos1: position vector of planet 1 at start of simulation\n",
    "      - pos2: position vector of planet 2 at start of simulation\n",
    "      - vel1: velocity vector of planet 1 at start of simulation\n",
    "      - vel2: velocity vector of planet 2 at start of simulation\n",
    "      - m_star:   mass of star\n",
    "      - dt:       time step\n",
    "    \"\"\"\n",
    "    ##################\n",
    "    # YOUR CODE HERE #\n",
    "    ##################\n",
    "    \n",
    "    fps = 2000#1/dt\n",
    "    time = 0\n",
    "    max_time = 5 # Set runtime of animation\n",
    "    \n",
    "    # Defines the two planet shapes\n",
    "    planet1 = sphere(pos=pos1, color=color.green, radius=0.1, make_trail=True)\n",
    "    planet2 = sphere(pos=pos2, color=color.red, radius=0.1, make_trail=True)\n",
    "    \n",
    "    # Loop through every frame of animation till animation time exceeds runtime\n",
    "    while time < max_time:\n",
    "        rate(fps) # Set framerate of animation\n",
    "        \n",
    "        # Calculate new position and velocity of planet 1\n",
    "        new_pos1, new_vel1 = move_planet(planet1.pos, vel1, m_star, dt)\n",
    "        vel1 = new_vel1        # Set velocity of planet 1\n",
    "        planet1.pos = new_pos1 # Set position of planet 1\n",
    "        \n",
    "        # Calculate new position and velocity of planet 2\n",
    "        new_pos2, new_vel2 = move_planet(planet2.pos, vel2, m_star, dt)\n",
    "        vel2 = new_vel2        # Set velocity of planet 2\n",
    "        planet2.pos = new_pos2 # Set position of planet 2\n",
    "        \n",
    "        time += dt # Increment time\n",
    "    "
   ]
  },
  {
   "cell_type": "code",
   "execution_count": null,
   "metadata": {
    "ExecuteTime": {
     "start_time": "2023-12-08T16:29:28.146662400Z"
    },
    "pycharm": {
     "name": "#%%\n"
    }
   },
   "outputs": [],
   "source": [
    "# Initialize canvas, and set parameters of star and planet.\n",
    "canvas()\n",
    "\n",
    "pos_planet1 = vector(1.85,0,0)   # initial position of planet1\n",
    "v_planet1   = vector(0,23.25,0) # initial velocity of planet1\n",
    "\n",
    "pos_planet2 = vector(1.96,0.4,0) # initial position of planet2\n",
    "v_planet2 = vector(-4.44,21.9,0) # initial velocity of planet2\n",
    "\n",
    "m_star     = 1000.           # mass of star (units where G=1)\n",
    "sphere(pos=vector(0,0,0), color=color.yellow, radius=0.1) # draw star\n",
    "\n",
    "# Animate orbit of planet\n",
    "animate_planets(pos_planet1, pos_planet2, v_planet1, v_planet2, m_star, 1e-4)\n",
    "    "
   ]
  },
  {
   "cell_type": "markdown",
   "metadata": {
    "pycharm": {
     "name": "#%% md\n"
    }
   },
   "source": [
    "### 1 B - Observation\n",
    "\n",
    "Because the planets do not interact with eachother, they behave as completely isolated orbiting objects (although their orbits are very close). With both planets maintaining a stable circular orbit around the star, planet 1 appears to have a faster orbit, due to its initial velocity being faster than that of planet 2."
   ]
  },
  {
   "cell_type": "markdown",
   "metadata": {
    "pycharm": {
     "name": "#%% md\n"
    }
   },
   "source": [
    "### 2 A - Two planets with realistic gravitational effects\n",
    "\n",
    "This function returns the position and velocity similar to before, however this time, the mass of the other planet is used in the calculation to produce a more realistic value for the new position and velocity at every time step."
   ]
  },
  {
   "cell_type": "code",
   "execution_count": null,
   "metadata": {
    "ExecuteTime": {
     "start_time": "2023-12-08T16:29:28.146662400Z"
    },
    "pycharm": {
     "name": "#%%\n"
    }
   },
   "outputs": [],
   "source": [
    "def move_planet_real(position, velocity, mass, position_planet, m_planet, m_star, dt):\n",
    "    \"\"\"\n",
    "    Calculate motion of planet in the gravitational field of a star with given mass\n",
    "    at the origin, using Euler's method.\n",
    "    \n",
    "    Input:\n",
    "      - position: position vector of planet at start of time step\n",
    "      - velocity: velocity vector of planet at start of time step\n",
    "      - mass: mass of planet\n",
    "      - position_planet: position of other planet\n",
    "      - m_planet: mass of other planet\n",
    "      - m_star:   mass of star\n",
    "      - dt:       time step\n",
    "      \n",
    "    Output: (position_new, velocity_new)\n",
    "      - position_new: position vector of planet at end of time step\n",
    "      - velocity_new: velocity vector of planet at end of time step\n",
    "      \n",
    "    Depends on:\n",
    "      - force = function to calculate the gravitational force between two objects\n",
    "    \"\"\"\n",
    "    ##################\n",
    "    # YOUR CODE HERE #\n",
    "    ##################\n",
    "    \n",
    "    # Calculates new position of planet\n",
    "    position_new = position + velocity * dt\n",
    "    \n",
    "    Fsun = force(position, vector(0,0,0), mass, m_star)        # Calculates force from sun on planet\n",
    "    Fplanet = force(position, position_planet, mass, m_planet) # Calculates force from other planet on planet\n",
    "    \n",
    "    Fnet = Fsun + Fplanet # Calculates total force on planet\n",
    "    \n",
    "    # Calculates new velocity on planet\n",
    "    delta_v = Fnet * dt / mass\n",
    "    velocity_new = velocity + delta_v\n",
    "    \n",
    "    return position_new, velocity_new"
   ]
  },
  {
   "cell_type": "markdown",
   "metadata": {
    "pycharm": {
     "name": "#%% md\n"
    }
   },
   "source": [
    "### 2 B\n",
    "\n",
    "This function is similar to before in terms of updating both planets' positions and velocities, however this time, the second planet has its mass defined, and is passed into the \"move_planet_real\" function, which uses te other planets' mass to calculate a net force on the first planet to produce a more realistic value for position and velocity."
   ]
  },
  {
   "cell_type": "code",
   "execution_count": null,
   "metadata": {
    "ExecuteTime": {
     "start_time": "2023-12-08T16:29:28.146662400Z"
    },
    "pycharm": {
     "name": "#%%\n"
    }
   },
   "outputs": [],
   "source": [
    "def animate_planets_real(pos1, pos2, vel1, vel2, mass1, mass2, m_star, dt):\n",
    "    \"\"\"\n",
    "    Animate planetary orbits from the given starting position of two planets, with given time step.\n",
    "    \n",
    "    Input:\n",
    "      - pos1: position vector of planet 1 at start of simulation\n",
    "      - pos2: position vector of planet 2 at start of simulation\n",
    "      - vel1: velocity vector of planet 1 at start of simulation\n",
    "      - vel2: velocity vector of planet 2 at start of simulation\n",
    "      - mass1: mass of first planet\n",
    "      - mass2: mass of second planet\n",
    "      - m_star:   mass of star\n",
    "      - dt:       time step\n",
    "    \"\"\"\n",
    "    ##################\n",
    "    # YOUR CODE HERE #\n",
    "    ##################\n",
    "    \n",
    "    fps = 2000.  # Sets frame rate of animation\n",
    "    time = 0    # Sets start time to 0\n",
    "    max_time = 5# Sets animation runtime to 5 seconds\n",
    "    \n",
    "    # Defines planets1 and 2\n",
    "    planet1 = sphere(pos=pos1, color=color.green, radius=0.1, make_trail=True)\n",
    "    planet2 = sphere(pos=pos2, color=color.red, radius=0.1, make_trail=True)\n",
    "\n",
    "    # Loops until animation time exceeds runtime\n",
    "    while time < max_time:\n",
    "        rate(fps) # sets framerate of animation\n",
    "        \n",
    "        # Calculates new position and velocity of planet1\n",
    "        new_pos1, new_vel1 = move_planet_real(planet1.pos, vel1, mass1, planet2.pos, mass2,  m_star, dt)\n",
    "        vel1 = new_vel1\n",
    "        planet1.pos = new_pos1\n",
    "        \n",
    "        # Calculates new position and velocity of planet2\n",
    "        new_pos2, new_vel2 = move_planet_real(planet2.pos, vel2, mass2, planet1.pos, mass1, m_star, dt)\n",
    "        vel2 = new_vel2\n",
    "        planet2.pos = new_pos2\n",
    "        \n",
    "        time += dt # Increments time"
   ]
  },
  {
   "cell_type": "code",
   "execution_count": null,
   "metadata": {
    "ExecuteTime": {
     "start_time": "2023-12-08T16:29:28.162761400Z"
    },
    "pycharm": {
     "name": "#%%\n"
    }
   },
   "outputs": [],
   "source": [
    "# Initialize canvas, and set parameters of star and planet.\n",
    "canvas()\n",
    "\n",
    "pos_planet1 = vector(1.85,0,0)   # initial position of planet1\n",
    "v_planet1   = vector(0,23.25,0) # initial velocity of planet1\n",
    "mass1 = 2\n",
    "\n",
    "pos_planet2 = vector(1.96,0.4,0) # initial position of planet2\n",
    "v_planet2 = vector(-4.44,21.9,0) # initial velocity of planet2\n",
    "mass2 = 2\n",
    "\n",
    "m_star     = 1000.           # mass of star (units where G=1)\n",
    "sphere(pos=vector(0,0,0), color=color.yellow, radius=0.5) # draw star\n",
    "\n",
    "# Animate orbit of planet\n",
    "animate_planets_real(pos_planet1, pos_planet2, v_planet1, v_planet2, mass1, mass2, m_star, 1e-5)"
   ]
  },
  {
   "cell_type": "markdown",
   "metadata": {
    "pycharm": {
     "name": "#%% md\n"
    }
   },
   "source": [
    "### 2 C - Observation\n",
    "\n",
    "Planet 1 starts by following a smaller elliptical orbit, with a faster velocity than planet 2. At a certain point in the animation, the two planets pass close together, such that they start to have an effect on eachothers path, and we can observe that they actually cause eachother to switch orbits. After remaining in this orbit for a while, they planets perform another close pass of eachother, and similar to before, they pull towards eachother, and cause themselves to switch orbits.\n",
    "\n",
    "(The value of the time step can effect this result, a higher time step can cause the planets to skip the close pass point, causing them to remain on their original orbits)"
   ]
  },
  {
   "cell_type": "markdown",
   "metadata": {
    "pycharm": {
     "name": "#%% md\n"
    }
   },
   "source": [
    "### 3 - Further Investigation\n",
    "\n",
    "Try varying some of the parameters of your simulation: the masses of the star and\n",
    "the planets, and the starting positions and velocities of the planets. There are\n",
    "many aspects you could investigate, but you should pick one or two. Add a few\n",
    "relevant animations and text cells to describe and explain what you observe, along\n",
    "with a conclusion."
   ]
  },
  {
   "cell_type": "markdown",
   "metadata": {
    "pycharm": {
     "name": "#%% md\n"
    }
   },
   "source": [
    "#### Calculating required velocity to maintain stable circular orbit\n",
    "\n",
    "By using the equation:\n",
    "\n",
    "**v**$^{2}$ = $\\frac{GM}{|r|^{2}}$**r**\n",
    "\n",
    "The required velocity to maintain a stable circular orbit at a given radius can be determined. However, this equation is only able to calculate the magnitude velocity in the same direction at the position vector, in order to fidn the direction of the velocity vector, we simply need to rotate it 90 degrees - As the direction of velocity always acts at a perpendicular angle to the position vector (from the origin). "
   ]
  },
  {
   "cell_type": "code",
   "execution_count": null,
   "metadata": {
    "ExecuteTime": {
     "start_time": "2023-12-08T16:29:28.162761400Z"
    },
    "pycharm": {
     "name": "#%%\n"
    }
   },
   "outputs": [],
   "source": [
    "def calculate_velocity(position, m_star):\n",
    "    \n",
    "    \"\"\"\n",
    "    Calculates and returns the required velocity, of planet orbiting star, required to maintain a stable circular orbit\n",
    "    \n",
    "    Input:\n",
    "    \n",
    "     - position: position of planet\n",
    "     - mass: mass of planet\n",
    "     \n",
    "     Output:\n",
    "     \n",
    "     - velocity: required velocity of planet around star to remain in circular orbit\n",
    "    \n",
    "    \"\"\"\n",
    "\n",
    "    # calculate magnitude of velocity\n",
    "    velocity = ((G * m_star) / ((mag(position)) ** 2)) * position\n",
    "    \n",
    "    # calculate direction of velocity - 90 deg rot = (y, -x)\n",
    "    return vector(-(abs(velocity.y))**0.5, abs(velocity.x)**0.5, abs(velocity.z)**0.5)"
   ]
  },
  {
   "cell_type": "code",
   "execution_count": null,
   "metadata": {
    "ExecuteTime": {
     "end_time": "2023-12-08T16:29:28.162761400Z",
     "start_time": "2023-12-08T16:29:28.162761400Z"
    },
    "pycharm": {
     "name": "#%%\n"
    },
    "scrolled": true
   },
   "outputs": [],
   "source": [
    "# Initialize canvas, and set parameters of star and planet.\n",
    "canvas()\n",
    "\n",
    "m_star     = 900.           # mass of star (units where G=1)\n",
    "sphere(pos=vector(0,0,0), color=color.yellow, radius=0.5) # draw star\n",
    "\n",
    "pos_planet1 = vector(0,2,0)     # initial position of planet1\n",
    "mass1 = 2                          # mass of planet 1\n",
    "v_planet1   = calculate_velocity(pos_planet1, m_star) # initial velocity of planet1\n",
    "\n",
    "pos_planet2 = vector(0,3.5,0) # initial position of planet2\n",
    "mass2 = 2                        # mass of planet 2\n",
    "v_planet2 = calculate_velocity(pos_planet2, m_star) # initial velocity of planet2\n",
    "\n",
    "# Animate orbit of planet\n",
    "animate_planets_real(pos_planet1, pos_planet2, v_planet1, v_planet2, mass1, mass2, m_star, 1e-5)"
   ]
  },
  {
   "cell_type": "markdown",
   "metadata": {
    "pycharm": {
     "name": "#%% md\n"
    }
   },
   "source": [
    "#### Conclusion\n",
    "\n",
    "By using this equation we were able to calculate the required velocity with a given radius to maintain a stable circular orbit as shown by these two planets. However, this is only possible with two planets that have a seperation (initial radius), greater than 1.5, otherwise the gravitationl pull of the planets on eachother, causes them to throw eachother off of orbit slightly."
   ]
  },
  {
   "cell_type": "markdown",
   "metadata": {
    "pycharm": {
     "name": "#%% md\n"
    }
   },
   "source": [
    "#### Simulating orbit of moon\n",
    "\n",
    "In order to achieve this simulation, the initial position of the planet and the moon had to be significantly further from the star than the other simulations, this is so that the force on the moon by the star was far less than that of the force on the moon by the planet.\n",
    "\n",
    "In terms of the initial position of the moon, I knew it had to be very close to the planet relative to the distance from the the star, in order to have the planet acting at the main gravitational force on the moon. I also decided to place the moon in the path of the planets orbit, to give the moon the best chance of getting caught in the planets' gravitational field.\n",
    "\n",
    "In terms of initial velocity, it had to be travelling as fast as the planet at a minimum to keep up, if not travelling slightly faster. Furthermore, to stop the moon being pulled directly towards the planet, I needed to add some velocity in a perpendicular direction to that of the planet in order to get the moon travelling around the planets' orbit."
   ]
  },
  {
   "cell_type": "code",
   "execution_count": null,
   "metadata": {
    "ExecuteTime": {
     "end_time": "2023-12-08T16:29:28.166804100Z",
     "start_time": "2023-12-08T16:29:28.166804100Z"
    },
    "pycharm": {
     "name": "#%%\n"
    }
   },
   "outputs": [],
   "source": [
    "# good luck\n",
    "\n",
    "# Initialize canvas, and set parameters of star and planet.\n",
    "canvas()\n",
    "\n",
    "m_star     = 900.           # mass of star (units where G=1)\n",
    "sphere(pos=vector(0,0,0), color=color.yellow, radius=0.5) # draw star\n",
    "\n",
    "pos_planet = vector(0,8,0)   # initial position of planet\n",
    "v_planet   = calculate_velocity(pos_planet, m_star) # initial velocity of planet\n",
    "m_planet = 2\n",
    "\n",
    "pos_moon = vector(-0.1,8,0) # initial position of moon\n",
    "v_moon = vector(-12,-5,0) # initial velocity of moon\n",
    "m_moon = 1e-6\n",
    "\n",
    "\n",
    "# Animate orbit of planet\n",
    "animate_planets_real(pos_planet, pos_moon, v_planet, v_moon, m_planet, m_moon, m_star, 1e-5)"
   ]
  },
  {
   "cell_type": "markdown",
   "metadata": {
    "pycharm": {
     "name": "#%% md\n"
    }
   },
   "source": [
    "#### Conclusion\n",
    "\n",
    "Although I was able to get the moon orbiting the planet in the simulation, this was mainly due to approximating values manually. I was unable to automate the process given the planets' mass, position and velocity.\n",
    "\n",
    "I was also unable to figure out how to achieve a stable circular orbit for the moon around the planet, instead the moon follows an elliptical orbit.\n",
    "\n",
    "But besides this, you are able to see the moon orbiting the planet in an anticlockwise direction."
   ]
  },
  {
   "cell_type": "code",
   "execution_count": null,
   "metadata": {
    "ExecuteTime": {
     "start_time": "2023-12-08T16:29:28.166804100Z"
    },
    "pycharm": {
     "name": "#%%\n"
    }
   },
   "outputs": [],
   "source": []
  }
 ],
 "metadata": {
  "kernelspec": {
   "display_name": "Python 3 (ipykernel)",
   "language": "python",
   "name": "python3"
  },
  "language_info": {
   "codemirror_mode": {
    "name": "ipython",
    "version": 3
   },
   "file_extension": ".py",
   "mimetype": "text/x-python",
   "name": "python",
   "nbconvert_exporter": "python",
   "pygments_lexer": "ipython3",
   "version": "3.8.10"
  },
  "toc": {
   "base_numbering": 1,
   "nav_menu": {},
   "number_sections": false,
   "sideBar": true,
   "skip_h1_title": false,
   "title_cell": "Table of Contents",
   "title_sidebar": "Contents",
   "toc_cell": false,
   "toc_position": {},
   "toc_section_display": true,
   "toc_window_display": false
  }
 },
 "nbformat": 4,
 "nbformat_minor": 4
}
